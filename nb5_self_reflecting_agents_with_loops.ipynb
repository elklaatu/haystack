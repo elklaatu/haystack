{
 "cells": [
  {
   "cell_type": "code",
   "execution_count": 1,
   "id": "initial_id",
   "metadata": {},
   "outputs": [],
   "source": [
    "import warnings\n",
    "from helper import load_env\n",
    "\n",
    "warnings.filterwarnings('ignore')\n",
    "load_env()"
   ]
  },
  {
   "cell_type": "code",
   "execution_count": 2,
   "id": "6e89ab64-8003-4ab9-9f2e-a32a6895e645",
   "metadata": {},
   "outputs": [],
   "source": [
    "from typing import List\n",
    "from colorama import Fore\n",
    "from haystack import Pipeline, component\n",
    "from haystack.components.builders.prompt_builder import PromptBuilder\n",
    "from haystack.components.generators.openai import OpenAIGenerator"
   ]
  },
  {
   "cell_type": "code",
   "execution_count": 3,
   "id": "a0ec2dc0-8634-4635-8156-f522f22a225d",
   "metadata": {},
   "outputs": [],
   "source": [
    "@component\n",
    "class EntitiesValidator:\n",
    "\n",
    "    @component.output_types(entities_to_validate=str, entities=str)\n",
    "    def run(self, replies: List[str]):\n",
    "        if 'DONE' in replies[0]:\n",
    "            return {\"entities\":replies[0].replace('DONE', '')}\n",
    "        else:\n",
    "            print(Fore.RED + \"Reflecting on entities\\n\", replies[0])\n",
    "            return {\"entities_to_validate\": replies[0]}"
   ]
  },
  {
   "cell_type": "code",
   "execution_count": 5,
   "id": "a4677e42-4238-4469-8e21-9803de94a730",
   "metadata": {},
   "outputs": [
    {
     "name": "stdout",
     "output_type": "stream",
     "text": [
      "\u001b[31mReflecting on entities\n",
      " {'name': 'Héctor'}\n"
     ]
    },
    {
     "data": {
      "text/plain": [
       "{'entities_to_validate': \"{'name': 'Héctor'}\"}"
      ]
     },
     "execution_count": 5,
     "metadata": {},
     "output_type": "execute_result"
    }
   ],
   "source": [
    "entities_validator = EntitiesValidator()\n",
    "entities_validator.run(replies= [\"{'name': 'Héctor'}\"])"
   ]
  },
  {
   "cell_type": "code",
   "execution_count": null,
   "id": "bbd786ab-7837-43fe-beea-e259c0038d7b",
   "metadata": {},
   "outputs": [],
   "source": [
    "entities_validator.run(replies= [\"DONE {'name': 'Héctor'}\"])"
   ]
  }
 ],
 "metadata": {
  "kernelspec": {
   "display_name": "Python 3 (ipykernel)",
   "language": "python",
   "name": "python3"
  },
  "language_info": {
   "codemirror_mode": {
    "name": "ipython",
    "version": 3
   },
   "file_extension": ".py",
   "mimetype": "text/x-python",
   "name": "python",
   "nbconvert_exporter": "python",
   "pygments_lexer": "ipython3",
   "version": "3.11.2"
  }
 },
 "nbformat": 4,
 "nbformat_minor": 5
}
